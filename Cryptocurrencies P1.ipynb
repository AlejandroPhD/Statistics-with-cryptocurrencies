{
 "cells": [
  {
   "cell_type": "markdown",
   "id": "3ead3d53",
   "metadata": {},
   "source": [
    "# ESTADÍSTICAS DESCRIPTIVAS\n",
    "En este documento se muestra un ejemplo de como descargar información de https://finance.yahoo.com/cryptocurrencies/.\n",
    "Concretamente se trabaja con crypto monedas y se generan reportes básicos de estadística descriptiva."
   ]
  },
  {
   "cell_type": "markdown",
   "id": "e93c9e54",
   "metadata": {},
   "source": [
    "Inicialmente, es necesario descargar las librerías que serán utilizadas, las cuales previamente fueron installadas (pip install)."
   ]
  },
  {
   "cell_type": "code",
   "execution_count": 1,
   "id": "21853e0b",
   "metadata": {},
   "outputs": [],
   "source": [
    "import pandas as pd\n",
    "import yfinance as yf\n",
    "import matplotlib.pyplot as plt\n",
    "import numpy as np\n",
    "import seaborn as sns; sns.set_theme()"
   ]
  },
  {
   "cell_type": "markdown",
   "id": "8bbef4b1",
   "metadata": {},
   "source": [
    "A continuación, se utiliza la función de yfinance para descargar los datos históricos de tres\n",
    "criptomonedas: Ethereum (https://ethereum.org/en/), Ripple (https://www.ripple.com/) y \n",
    "Bitcoin (https://bitcoin.org/en).    "
   ]
  },
  {
   "cell_type": "code",
   "execution_count": 2,
   "id": "a3622efa",
   "metadata": {},
   "outputs": [],
   "source": [
    "RISKY_ASSET = ['ETH-USD', 'XRP-USD', 'BTC-USD']\n",
    "START_DATE = '2017-01-01'\n",
    "END_DATE = '2022-06-10'"
   ]
  },
  {
   "cell_type": "markdown",
   "id": "f80f11fe",
   "metadata": {},
   "source": [
    "Con estos datos se crea el data frame (df) o base de datos."
   ]
  },
  {
   "cell_type": "code",
   "execution_count": 3,
   "id": "09ad251d",
   "metadata": {},
   "outputs": [
    {
     "name": "stdout",
     "output_type": "stream",
     "text": [
      "[*********************100%***********************]  3 of 3 completed\n"
     ]
    }
   ],
   "source": [
    "df = yf.download(RISKY_ASSET,\n",
    "                 start=START_DATE,\n",
    "                 end=END_DATE,\n",
    "                 adjusted=True)"
   ]
  },
  {
   "cell_type": "markdown",
   "id": "e36d21ad",
   "metadata": {},
   "source": [
    "En base a los precios de cierre, se calculan los rendimientos diarios de cada activo y se eliminan las celdas que no tienen datos."
   ]
  },
  {
   "cell_type": "code",
   "execution_count": 4,
   "id": "0ff113af",
   "metadata": {},
   "outputs": [],
   "source": [
    "returns = 100 * df['Adj Close'].pct_change().dropna()\n",
    "returns.name = 'asset_returns'"
   ]
  },
  {
   "cell_type": "code",
   "execution_count": 5,
   "id": "eb077873",
   "metadata": {},
   "outputs": [
    {
     "data": {
      "text/html": [
       "<div>\n",
       "<style scoped>\n",
       "    .dataframe tbody tr th:only-of-type {\n",
       "        vertical-align: middle;\n",
       "    }\n",
       "\n",
       "    .dataframe tbody tr th {\n",
       "        vertical-align: top;\n",
       "    }\n",
       "\n",
       "    .dataframe thead th {\n",
       "        text-align: right;\n",
       "    }\n",
       "</style>\n",
       "<table border=\"1\" class=\"dataframe\">\n",
       "  <thead>\n",
       "    <tr style=\"text-align: right;\">\n",
       "      <th></th>\n",
       "      <th>BTC-USD</th>\n",
       "      <th>ETH-USD</th>\n",
       "      <th>XRP-USD</th>\n",
       "    </tr>\n",
       "    <tr>\n",
       "      <th>Date</th>\n",
       "      <th></th>\n",
       "      <th></th>\n",
       "      <th></th>\n",
       "    </tr>\n",
       "  </thead>\n",
       "  <tbody>\n",
       "    <tr>\n",
       "      <th>2017-11-10</th>\n",
       "      <td>-7.355415</td>\n",
       "      <td>-6.741069</td>\n",
       "      <td>-5.060049</td>\n",
       "    </tr>\n",
       "    <tr>\n",
       "      <th>2017-11-11</th>\n",
       "      <td>-3.936756</td>\n",
       "      <td>5.155507</td>\n",
       "      <td>1.911532</td>\n",
       "    </tr>\n",
       "    <tr>\n",
       "      <th>2017-11-12</th>\n",
       "      <td>-6.410128</td>\n",
       "      <td>-2.152342</td>\n",
       "      <td>-6.221070</td>\n",
       "    </tr>\n",
       "    <tr>\n",
       "      <th>2017-11-13</th>\n",
       "      <td>10.242240</td>\n",
       "      <td>2.860599</td>\n",
       "      <td>3.092652</td>\n",
       "    </tr>\n",
       "    <tr>\n",
       "      <th>2017-11-14</th>\n",
       "      <td>1.162587</td>\n",
       "      <td>6.603711</td>\n",
       "      <td>3.137497</td>\n",
       "    </tr>\n",
       "  </tbody>\n",
       "</table>\n",
       "</div>"
      ],
      "text/plain": [
       "              BTC-USD   ETH-USD   XRP-USD\n",
       "Date                                     \n",
       "2017-11-10  -7.355415 -6.741069 -5.060049\n",
       "2017-11-11  -3.936756  5.155507  1.911532\n",
       "2017-11-12  -6.410128 -2.152342 -6.221070\n",
       "2017-11-13  10.242240  2.860599  3.092652\n",
       "2017-11-14   1.162587  6.603711  3.137497"
      ]
     },
     "execution_count": 5,
     "metadata": {},
     "output_type": "execute_result"
    }
   ],
   "source": [
    "returns.head()"
   ]
  },
  {
   "cell_type": "markdown",
   "id": "704dcf99",
   "metadata": {},
   "source": [
    "A continuación, se grafican los rendimientos de cada una de las series de tiempo."
   ]
  },
  {
   "cell_type": "code",
   "execution_count": 6,
   "id": "839a7a60",
   "metadata": {},
   "outputs": [
    {
     "data": {
      "text/plain": [
       "array([<AxesSubplot:xlabel='Date'>, <AxesSubplot:xlabel='Date'>,\n",
       "       <AxesSubplot:xlabel='Date'>], dtype=object)"
      ]
     },
     "execution_count": 6,
     "metadata": {},
     "output_type": "execute_result"
    },
    {
     "data": {
      "text/plain": [
       "<Figure size 1008x576 with 0 Axes>"
      ]
     },
     "metadata": {},
     "output_type": "display_data"
    },
    {
     "data": {
      "image/png": "[encoded data removed]",
      "text/plain": [
       "<Figure size 432x288 with 3 Axes>"
      ]
     },
     "metadata": {},
     "output_type": "display_data"
    }
   ],
   "source": [
    "plt.figure(figsize=(14,8))\n",
    "returns.plot(subplots = True, title=f'{RISKY_ASSET} returns: {START_DATE} - {END_DATE}')\n"
   ]
  },
  {
   "cell_type": "markdown",
   "id": "95421dfe",
   "metadata": {},
   "source": [
    "Python permite calcular estadísticas descriptivas, a continuación, se presentan algunos ejemplos con la media, la mediana y un cuadro resumen que incluye la desviación estándar, máximo, mínimo, y cuartiles."
   ]
  },
  {
   "cell_type": "code",
   "execution_count": 7,
   "id": "ae16aeb7",
   "metadata": {
    "scrolled": true
   },
   "outputs": [
    {
     "data": {
      "text/plain": [
       "BTC-USD    0.167650\n",
       "ETH-USD    0.230788\n",
       "XRP-USD    0.255156\n",
       "dtype: float64"
      ]
     },
     "execution_count": 7,
     "metadata": {},
     "output_type": "execute_result"
    }
   ],
   "source": [
    "returns.mean()"
   ]
  },
  {
   "cell_type": "code",
   "execution_count": 8,
   "id": "fdd2a353",
   "metadata": {},
   "outputs": [
    {
     "data": {
      "text/plain": [
       "BTC-USD    0.161862\n",
       "ETH-USD    0.148414\n",
       "XRP-USD   -0.096950\n",
       "dtype: float64"
      ]
     },
     "execution_count": 8,
     "metadata": {},
     "output_type": "execute_result"
    }
   ],
   "source": [
    "returns.median()"
   ]
  },
  {
   "cell_type": "code",
   "execution_count": 9,
   "id": "0b054cd6",
   "metadata": {},
   "outputs": [
    {
     "data": {
      "text/html": [
       "<div>\n",
       "<style scoped>\n",
       "    .dataframe tbody tr th:only-of-type {\n",
       "        vertical-align: middle;\n",
       "    }\n",
       "\n",
       "    .dataframe tbody tr th {\n",
       "        vertical-align: top;\n",
       "    }\n",
       "\n",
       "    .dataframe thead th {\n",
       "        text-align: right;\n",
       "    }\n",
       "</style>\n",
       "<table border=\"1\" class=\"dataframe\">\n",
       "  <thead>\n",
       "    <tr style=\"text-align: right;\">\n",
       "      <th></th>\n",
       "      <th>BTC-USD</th>\n",
       "      <th>ETH-USD</th>\n",
       "      <th>XRP-USD</th>\n",
       "    </tr>\n",
       "  </thead>\n",
       "  <tbody>\n",
       "    <tr>\n",
       "      <th>count</th>\n",
       "      <td>1674.000000</td>\n",
       "      <td>1674.000000</td>\n",
       "      <td>1674.000000</td>\n",
       "    </tr>\n",
       "    <tr>\n",
       "      <th>mean</th>\n",
       "      <td>0.167650</td>\n",
       "      <td>0.230788</td>\n",
       "      <td>0.255156</td>\n",
       "    </tr>\n",
       "    <tr>\n",
       "      <th>std</th>\n",
       "      <td>4.072361</td>\n",
       "      <td>5.091731</td>\n",
       "      <td>6.913665</td>\n",
       "    </tr>\n",
       "    <tr>\n",
       "      <th>min</th>\n",
       "      <td>-37.169539</td>\n",
       "      <td>-42.347221</td>\n",
       "      <td>-42.334007</td>\n",
       "    </tr>\n",
       "    <tr>\n",
       "      <th>25%</th>\n",
       "      <td>-1.622294</td>\n",
       "      <td>-2.180682</td>\n",
       "      <td>-2.374362</td>\n",
       "    </tr>\n",
       "    <tr>\n",
       "      <th>50%</th>\n",
       "      <td>0.161862</td>\n",
       "      <td>0.148414</td>\n",
       "      <td>-0.096950</td>\n",
       "    </tr>\n",
       "    <tr>\n",
       "      <th>75%</th>\n",
       "      <td>1.909878</td>\n",
       "      <td>2.796934</td>\n",
       "      <td>2.140561</td>\n",
       "    </tr>\n",
       "    <tr>\n",
       "      <th>max</th>\n",
       "      <td>25.247169</td>\n",
       "      <td>26.458071</td>\n",
       "      <td>83.470793</td>\n",
       "    </tr>\n",
       "  </tbody>\n",
       "</table>\n",
       "</div>"
      ],
      "text/plain": [
       "           BTC-USD      ETH-USD      XRP-USD\n",
       "count  1674.000000  1674.000000  1674.000000\n",
       "mean      0.167650     0.230788     0.255156\n",
       "std       4.072361     5.091731     6.913665\n",
       "min     -37.169539   -42.347221   -42.334007\n",
       "25%      -1.622294    -2.180682    -2.374362\n",
       "50%       0.161862     0.148414    -0.096950\n",
       "75%       1.909878     2.796934     2.140561\n",
       "max      25.247169    26.458071    83.470793"
      ]
     },
     "execution_count": 9,
     "metadata": {},
     "output_type": "execute_result"
    }
   ],
   "source": [
    "returns.describe()"
   ]
  },
  {
   "cell_type": "markdown",
   "id": "8c621bcd",
   "metadata": {},
   "source": [
    "También es posible calcular el coeficiente de correlación."
   ]
  },
  {
   "cell_type": "code",
   "execution_count": 10,
   "id": "eedf6b66",
   "metadata": {},
   "outputs": [
    {
     "data": {
      "text/html": [
       "<div>\n",
       "<style scoped>\n",
       "    .dataframe tbody tr th:only-of-type {\n",
       "        vertical-align: middle;\n",
       "    }\n",
       "\n",
       "    .dataframe tbody tr th {\n",
       "        vertical-align: top;\n",
       "    }\n",
       "\n",
       "    .dataframe thead th {\n",
       "        text-align: right;\n",
       "    }\n",
       "</style>\n",
       "<table border=\"1\" class=\"dataframe\">\n",
       "  <thead>\n",
       "    <tr style=\"text-align: right;\">\n",
       "      <th></th>\n",
       "      <th>BTC-USD</th>\n",
       "      <th>ETH-USD</th>\n",
       "      <th>XRP-USD</th>\n",
       "    </tr>\n",
       "  </thead>\n",
       "  <tbody>\n",
       "    <tr>\n",
       "      <th>BTC-USD</th>\n",
       "      <td>1.000000</td>\n",
       "      <td>0.762017</td>\n",
       "      <td>0.502298</td>\n",
       "    </tr>\n",
       "    <tr>\n",
       "      <th>ETH-USD</th>\n",
       "      <td>0.762017</td>\n",
       "      <td>1.000000</td>\n",
       "      <td>0.603740</td>\n",
       "    </tr>\n",
       "    <tr>\n",
       "      <th>XRP-USD</th>\n",
       "      <td>0.502298</td>\n",
       "      <td>0.603740</td>\n",
       "      <td>1.000000</td>\n",
       "    </tr>\n",
       "  </tbody>\n",
       "</table>\n",
       "</div>"
      ],
      "text/plain": [
       "          BTC-USD   ETH-USD   XRP-USD\n",
       "BTC-USD  1.000000  0.762017  0.502298\n",
       "ETH-USD  0.762017  1.000000  0.603740\n",
       "XRP-USD  0.502298  0.603740  1.000000"
      ]
     },
     "execution_count": 10,
     "metadata": {},
     "output_type": "execute_result"
    }
   ],
   "source": [
    "corr = returns.corr()\n",
    "corr"
   ]
  },
  {
   "cell_type": "markdown",
   "id": "8ecb2dbc",
   "metadata": {},
   "source": [
    "Una gráfica que suele ser muy útil, es el mapa de calor (heatmap) que se calcula tomando los coeficientes de correlación."
   ]
  },
  {
   "cell_type": "code",
   "execution_count": 11,
   "id": "1396b88e",
   "metadata": {},
   "outputs": [
    {
     "data": {
      "image/png": "[encoded data removed]",
      "text/plain": [
       "<Figure size 432x288 with 2 Axes>"
      ]
     },
     "metadata": {},
     "output_type": "display_data"
    }
   ],
   "source": [
    "ax = sns.heatmap(\n",
    "    corr, \n",
    "    vmin=-1, vmax=1, center=0,\n",
    "    cmap=sns.diverging_palette(20, 220, n=200),\n",
    "    square=True\n",
    ")\n",
    "ax.set_xticklabels(\n",
    "    ax.get_xticklabels(),\n",
    "    rotation=45,\n",
    "    horizontalalignment='right'\n",
    ");"
   ]
  },
  {
   "cell_type": "code",
   "execution_count": null,
   "id": "c707fb9d",
   "metadata": {},
   "outputs": [],
   "source": []
  }
 ],
 "metadata": {
  "kernelspec": {
   "display_name": "Python 3 (ipykernel)",
   "language": "python",
   "name": "python3"
  },
  "language_info": {
   "codemirror_mode": {
    "name": "ipython",
    "version": 3
   },
   "file_extension": ".py",
   "mimetype": "text/x-python",
   "name": "python",
   "nbconvert_exporter": "python",
   "pygments_lexer": "ipython3",
   "version": "3.9.7"
  }
 },
 "nbformat": 4,
 "nbformat_minor": 5
}
